{
 "cells": [
  {
   "cell_type": "markdown",
   "metadata": {},
   "source": [
    "## Imports"
   ]
  },
  {
   "cell_type": "code",
   "execution_count": 1,
   "metadata": {},
   "outputs": [
    {
     "name": "stderr",
     "output_type": "stream",
     "text": [
      "/Users/WillLacey/anaconda3/lib/python3.6/site-packages/h5py/__init__.py:36: FutureWarning: Conversion of the second argument of issubdtype from `float` to `np.floating` is deprecated. In future, it will be treated as `np.float64 == np.dtype(float).type`.\n",
      "  from ._conv import register_converters as _register_converters\n",
      "Using TensorFlow backend.\n"
     ]
    }
   ],
   "source": [
    "import keras\n",
    "from keras.layers import Dense, Dropout, Activation, Flatten\n",
    "from keras.layers import Conv1D, MaxPooling1D\n",
    "from keras.callbacks import EarlyStopping\n",
    "from keras.models import Input, Model\n",
    "from keras.models import load_model\n",
    "\n",
    "import matplotlib\n",
    "from matplotlib import pyplot as plt\n",
    "\n",
    "import numpy as np\n",
    "\n",
    "import pandas as pd\n",
    "\n",
    "import random\n",
    "\n",
    "import seaborn as sns\n",
    "sns.set(style='darkgrid')\n",
    "\n",
    "import sklearn\n",
    "import sklearn.datasets\n",
    "from sklearn import metrics as mt\n",
    "from sklearn.metrics import roc_curve, auc, accuracy_score\n",
    "\n",
    "import sys"
   ]
  },
  {
   "cell_type": "markdown",
   "metadata": {},
   "source": [
    "## Load Data"
   ]
  },
  {
   "cell_type": "code",
   "execution_count": 2,
   "metadata": {},
   "outputs": [
    {
     "name": "stdout",
     "output_type": "stream",
     "text": [
      "Succeeded to Open File.\n",
      "\n",
      "<class 'pandas.core.frame.DataFrame'>\n",
      "RangeIndex: 310 entries, 0 to 309\n",
      "Data columns (total 2 columns):\n",
      "Evaluation    310 non-null float64\n",
      "FEN           310 non-null object\n",
      "dtypes: float64(1), object(1)\n",
      "memory usage: 4.9+ KB\n",
      "None\n"
     ]
    }
   ],
   "source": [
    "try:\n",
    "    df = pd.read_csv('chess_fen_data.csv') # read in the csv file\n",
    "    print(\"Succeeded to Open File.\\n\")\n",
    "    print(df.info()) \n",
    "    \n",
    "except IOError:\n",
    "    print(\"Failed to Open Files. Quitting Program.\")\n",
    "    sys.exit"
   ]
  },
  {
   "cell_type": "code",
   "execution_count": 3,
   "metadata": {},
   "outputs": [
    {
     "data": {
      "text/html": [
       "<div>\n",
       "<style scoped>\n",
       "    .dataframe tbody tr th:only-of-type {\n",
       "        vertical-align: middle;\n",
       "    }\n",
       "\n",
       "    .dataframe tbody tr th {\n",
       "        vertical-align: top;\n",
       "    }\n",
       "\n",
       "    .dataframe thead th {\n",
       "        text-align: right;\n",
       "    }\n",
       "</style>\n",
       "<table border=\"1\" class=\"dataframe\">\n",
       "  <thead>\n",
       "    <tr style=\"text-align: right;\">\n",
       "      <th></th>\n",
       "      <th>Evaluation</th>\n",
       "      <th>FEN</th>\n",
       "    </tr>\n",
       "  </thead>\n",
       "  <tbody>\n",
       "    <tr>\n",
       "      <th>0</th>\n",
       "      <td>0.2</td>\n",
       "      <td>rnbqkbnr/pppppppp/8/8/8/8/PPPPPPPP/RNBQKBNR w ...</td>\n",
       "    </tr>\n",
       "    <tr>\n",
       "      <th>1</th>\n",
       "      <td>0.2</td>\n",
       "      <td>rnbqkbnr/pppppppp/8/8/4P3/8/PPPP1PPP/RNBQKBNR ...</td>\n",
       "    </tr>\n",
       "    <tr>\n",
       "      <th>2</th>\n",
       "      <td>0.4</td>\n",
       "      <td>rnbqkbnr/pppp1ppp/8/4p3/4P3/8/PPPP1PPP/RNBQKBN...</td>\n",
       "    </tr>\n",
       "    <tr>\n",
       "      <th>3</th>\n",
       "      <td>0.3</td>\n",
       "      <td>rnbqkbnr/pppp1ppp/8/4p3/4P3/5N2/PPPP1PPP/RNBQK...</td>\n",
       "    </tr>\n",
       "    <tr>\n",
       "      <th>4</th>\n",
       "      <td>0.2</td>\n",
       "      <td>r1bqkbnr/pppp1ppp/2n5/4p3/4P3/5N2/PPPP1PPP/RNB...</td>\n",
       "    </tr>\n",
       "  </tbody>\n",
       "</table>\n",
       "</div>"
      ],
      "text/plain": [
       "   Evaluation                                                FEN\n",
       "0         0.2  rnbqkbnr/pppppppp/8/8/8/8/PPPPPPPP/RNBQKBNR w ...\n",
       "1         0.2  rnbqkbnr/pppppppp/8/8/4P3/8/PPPP1PPP/RNBQKBNR ...\n",
       "2         0.4  rnbqkbnr/pppp1ppp/8/4p3/4P3/8/PPPP1PPP/RNBQKBN...\n",
       "3         0.3  rnbqkbnr/pppp1ppp/8/4p3/4P3/5N2/PPPP1PPP/RNBQK...\n",
       "4         0.2  r1bqkbnr/pppp1ppp/2n5/4p3/4P3/5N2/PPPP1PPP/RNB..."
      ]
     },
     "execution_count": 3,
     "metadata": {},
     "output_type": "execute_result"
    }
   ],
   "source": [
    "df[0:5]"
   ]
  },
  {
   "cell_type": "markdown",
   "metadata": {},
   "source": [
    "## Converting Fen into Custom Evaluation Metric"
   ]
  },
  {
   "cell_type": "code",
   "execution_count": 4,
   "metadata": {},
   "outputs": [
    {
     "name": "stdout",
     "output_type": "stream",
     "text": [
      "rnbqkbnr/pppppppp/8/8/8/8/PPPPPPPP/RNBQKBNR w KQkq - 0 1\n",
      "[-5, -3, -3.5, -9, -100, -3.5, -3, -5, -1, -1, -1, -1, -1, -1, -1, -1, 0, 0, 0, 0, 0, 0, 0, 0, 0, 0, 0, 0, 0, 0, 0, 0, 0, 0, 0, 0, 0, 0, 0, 0, 0, 0, 0, 0, 0, 0, 0, 0, 1, 1, 1, 1, 1, 1, 1, 1, 5, 3, 3.5, 9, 100, 3.5, 3, 5, 1, 1, 1, 1, 1]\n"
     ]
    }
   ],
   "source": [
    "custom_representations = []\n",
    "for fen in df['FEN']:\n",
    "    data = []\n",
    "#     rank = []\n",
    "    additional_info_index = 0\n",
    "    for c in fen:\n",
    "        if c == 'p':\n",
    "#             rank.append(-1)\n",
    "            data.append(-1)\n",
    "        elif c == 'r':\n",
    "#             rank.append(-5)\n",
    "            data.append(-5)\n",
    "        elif c == 'n':\n",
    "#             rank.append(-3)\n",
    "            data.append(-3)\n",
    "        elif c == 'b':\n",
    "#             rank.append(-3.5)\n",
    "            data.append(-3.5)\n",
    "        elif c == 'q':\n",
    "#             rank.append(-9)\n",
    "            data.append(-9)\n",
    "        elif c == 'k':\n",
    "#             rank.append(-100)\n",
    "            data.append(-100)\n",
    "        elif c == 'P':\n",
    "#             rank.append(1)\n",
    "            data.append(1)\n",
    "        elif c == 'R':\n",
    "#             rank.append(5)\n",
    "            data.append(5)\n",
    "        elif c == 'N':\n",
    "#             rank.append(3)\n",
    "            data.append(3)\n",
    "        elif c == 'B':\n",
    "#             rank.append(3.5)\n",
    "            data.append(3.5)\n",
    "        elif c == 'Q':\n",
    "#             rank.append(9)\n",
    "            data.append(9)\n",
    "        elif c == 'K':\n",
    "#             rank.append(100)\n",
    "            data.append(100)\n",
    "        elif c == '/':\n",
    "#             data.append(rank)\n",
    "#             rank = []\n",
    "            pass\n",
    "        elif c == ' ':\n",
    "            additional_info_index += 1\n",
    "#             data.append(rank)\n",
    "            \n",
    "#             additional_info = []\n",
    "            whitespace_count = 0\n",
    "            buffer = ''\n",
    "            \n",
    "            while additional_info_index < len(fen):\n",
    "                if fen[additional_info_index] != ' ':\n",
    "                    buffer += fen[additional_info_index]\n",
    "                else:\n",
    "                    if whitespace_count == 0: # Who's turn it is\n",
    "                        if buffer == 'w':\n",
    "#                             additional_info.append(1)\n",
    "                            data.append(1)\n",
    "                        else:\n",
    "#                             additional_info.append(-1)\n",
    "                            data.append(-1)\n",
    "                    elif whitespace_count == 1: # Who can castle and where\n",
    "                        white_king_side_castle = 0\n",
    "                        white_queen_side_castle = 0\n",
    "                        black_king_side_castle = 0\n",
    "                        black_queen_side_castle = 0\n",
    "                        for c2 in buffer:\n",
    "                            if c2 == 'K':\n",
    "                                white_king_side_castle = 1\n",
    "                            elif c2 == 'Q':\n",
    "                                white_queen_side_castle = 1\n",
    "                            elif c2 == 'k':\n",
    "                                black_king_side_castle = 1\n",
    "                            elif c2 == 'q':\n",
    "                                black_queen_side_castle = 1\n",
    "                        data.append(white_king_side_castle)\n",
    "                        data.append(white_queen_side_castle)\n",
    "                        data.append(black_king_side_castle)\n",
    "                        data.append(black_queen_side_castle)\n",
    "                        \n",
    "                    elif whitespace_count == 2: # Can an en passant occur and where\n",
    "                        pass\n",
    "                    elif whitespace_count == 3: # How many turns since capture or pawn advance\n",
    "                        pass\n",
    "                    elif whitespace_count == 4: # What turn is it\n",
    "                        pass\n",
    "                    \n",
    "                    whitespace_count += 1\n",
    "                    buffer = ''\n",
    "                additional_info_index += 1\n",
    "#             data.append(additional_info)\n",
    "            break\n",
    "            \n",
    "        else:\n",
    "            c = int(c)\n",
    "            for i in range(c):\n",
    "#                 rank.append(0)\n",
    "                data.append(0)\n",
    "        additional_info_index += 1\n",
    "        \n",
    "    custom_representations.append(data)\n",
    "\n",
    "print(df['FEN'][0])\n",
    "print(custom_representations[0])"
   ]
  },
  {
   "cell_type": "markdown",
   "metadata": {},
   "source": [
    "## Doubling the data by flipping color and mirroring board"
   ]
  },
  {
   "cell_type": "code",
   "execution_count": 5,
   "metadata": {},
   "outputs": [
    {
     "data": {
      "text/plain": [
       "620"
      ]
     },
     "execution_count": 5,
     "metadata": {},
     "output_type": "execute_result"
    }
   ],
   "source": [
    "new_custom_representations = []\n",
    "for cr in custom_representations:\n",
    "    new_cr = []\n",
    "    new_row = []\n",
    "    \n",
    "    count = 63\n",
    "    while count >= 0:\n",
    "        if (count+1) % 8 == 0 and (count+1) != (64):\n",
    "            new_row.reverse()\n",
    "            new_cr.extend(new_row)\n",
    "            new_row = []\n",
    "        new_row.append( -1 * cr[count])\n",
    "        count -= 1\n",
    "    new_row.reverse()\n",
    "    new_cr.extend(new_row)\n",
    "\n",
    "    new_cr.append(-1 * cr[64])\n",
    "    new_cr.append(cr[67])\n",
    "    new_cr.append(cr[68])\n",
    "    new_cr.append(cr[65])\n",
    "    new_cr.append(cr[66])\n",
    "    \n",
    "    new_custom_representations.append(new_cr)\n",
    "    \n",
    "combined_custom_representations = custom_representations\n",
    "combined_custom_representations.extend(new_custom_representations)\n",
    "len(combined_custom_representations)"
   ]
  },
  {
   "cell_type": "markdown",
   "metadata": {},
   "source": [
    "Let's quickly extract the evaluations from the dataframe, then double the entries"
   ]
  },
  {
   "cell_type": "code",
   "execution_count": 6,
   "metadata": {},
   "outputs": [
    {
     "data": {
      "text/plain": [
       "620"
      ]
     },
     "execution_count": 6,
     "metadata": {},
     "output_type": "execute_result"
    }
   ],
   "source": [
    "evaluations = []\n",
    "for val in df['Evaluation']:\n",
    "    evaluations.append(val)\n",
    "\n",
    "new_evaluations = []\n",
    "for val in df['Evaluation']:\n",
    "    evaluations.append(-1 * val) \n",
    "\n",
    "combined_evaluations = evaluations\n",
    "combined_evaluations.extend(new_evaluations)\n",
    "len(combined_evaluations)"
   ]
  },
  {
   "cell_type": "markdown",
   "metadata": {},
   "source": [
    "Okay, let's normalize the chessboard and evaluation values from -1 to 1"
   ]
  },
  {
   "cell_type": "code",
   "execution_count": 7,
   "metadata": {},
   "outputs": [
    {
     "data": {
      "text/plain": [
       "[-0.05, -0.03, -0.035, -0.09, -1.0, -0.035, -0.03, -0.05]"
      ]
     },
     "execution_count": 7,
     "metadata": {},
     "output_type": "execute_result"
    }
   ],
   "source": [
    "for rep in combined_custom_representations:\n",
    "    for i in range(64):\n",
    "        rep[i] = rep[i] / 100\n",
    "\n",
    "for i in range(len(combined_evaluations)):\n",
    "    combined_evaluations[i] = combined_evaluations[i] / 100\n",
    "    \n",
    "combined_custom_representations[0][0:8]"
   ]
  },
  {
   "cell_type": "markdown",
   "metadata": {},
   "source": [
    "## Preparing the Dataset"
   ]
  },
  {
   "cell_type": "markdown",
   "metadata": {},
   "source": [
    "These are some useful functions for preparing the sklearn dataset"
   ]
  },
  {
   "cell_type": "code",
   "execution_count": 8,
   "metadata": {},
   "outputs": [],
   "source": [
    "def shuffle(data, seed=0):\n",
    "    \"\"\"Shuffles the data given a random seed\"\"\"\n",
    "    random.seed(seed)\n",
    "    random.shuffle(data)\n",
    "    return data\n",
    "\n",
    "def split(data, percentage, number_of_classes=1):\n",
    "    \"\"\"Splits data and target into training and testing data based off the split percentage\"\"\"\n",
    "\n",
    "    train = []\n",
    "    test = []\n",
    "    number_per_class = int(len(data) / number_of_classes)\n",
    "    \n",
    "    for i in range(number_of_classes):\n",
    "        start = i * number_per_class\n",
    "        index_split = start + int(percentage * number_per_class)\n",
    "        end = (i * number_per_class) + number_per_class\n",
    "        \n",
    "        train.extend(data[start:index_split])\n",
    "        test.extend(data[index_split:end])\n",
    "        \n",
    "    return train, test"
   ]
  },
  {
   "cell_type": "markdown",
   "metadata": {},
   "source": [
    "Next, shuffling and splitting the data"
   ]
  },
  {
   "cell_type": "code",
   "execution_count": null,
   "metadata": {},
   "outputs": [],
   "source": [
    "# Shuffle Data\n",
    "random_seed = random.randint(0, 1000) # Create a random seed for shuffling\n",
    "shuffled_custom = shuffle(combined_custom_representations, random_seed)\n",
    "shuffled_eval = shuffle(evaluation, random_seed)\n",
    "\n",
    "# Split Data\n",
    "percentage = 9/10 # 90 10 split\n",
    "data_train, data_test = split(shuffled_custom, percentage)\n",
    "target_train, target_test = split(shuffled_eval, percentage)"
   ]
  },
  {
   "cell_type": "markdown",
   "metadata": {},
   "source": [
    "Create Sklearn dataset"
   ]
  },
  {
   "cell_type": "code",
   "execution_count": null,
   "metadata": {},
   "outputs": [],
   "source": [
    "ds = sklearn.datasets.base.Bunch(\n",
    "    X_train = np.array(data_train),\n",
    "    X_test = np.array(data_test),\n",
    "    y_train = np.array(target_train),\n",
    "    y_test = np.array(target_test)\n",
    ")\n",
    "ds.X_train[0]"
   ]
  },
  {
   "cell_type": "markdown",
   "metadata": {},
   "source": [
    "Maybe we should delete data that is no longer needed. I don't know man"
   ]
  },
  {
   "cell_type": "code",
   "execution_count": null,
   "metadata": {},
   "outputs": [],
   "source": [
    "del data_train\n",
    "del data_test\n",
    "del target_train\n",
    "del target_test\n",
    "del shuffled_custom\n",
    "del shuffled_eval\n",
    "# del df ?"
   ]
  },
  {
   "cell_type": "markdown",
   "metadata": {},
   "source": [
    "## Modeling"
   ]
  },
  {
   "cell_type": "code",
   "execution_count": null,
   "metadata": {},
   "outputs": [],
   "source": [
    "def network_fit(nn, X_train, y_train, X_test, y_test, epochs=50, batch_size=16, patience=5, verbose=0):\n",
    "    \"\"\"Fits data to a neural network using a specified epoch count and batch size; also \n",
    "    utilizes a specified data expansion\"\"\"\n",
    "    history = nn.fit(x=X_train, \n",
    "                     y=y_train, \n",
    "                     validation_data=(X_test, y_test), \n",
    "                     epochs=epochs, \n",
    "#                      steps_per_epoch=int(len(X_train)/batch_size),\n",
    "                     batch_size=batch_size, \n",
    "                     verbose=verbose, \n",
    "                     callbacks=[EarlyStopping(monitor='val_loss', patience=patience)]   \n",
    "    )\n",
    "    \n",
    "    return history\n",
    "\n",
    "def network_predict(nn, X_test, y_test):\n",
    "    \"\"\"Returns an accuracy for a neural network, a confusion matrix, and ROC data\"\"\"\n",
    "    yhat_proba = nn.predict(X_test)\n",
    "    yhat = np.round(yhat_proba, 3)\n",
    "#     acc = mt.accuracy_score(y_test, yhat)\n",
    "#     fpr, tpr, _ = roc_curve(y_test.flatten(), yhat_proba.flatten())\n",
    "#     roc_auc = auc(fpr, tpr)\n",
    "    return yhat\n",
    "\n",
    "def network_plot(history):    \n",
    "    \"\"\"Visualizes the performance of the training and validation sets per epoch\"\"\"\n",
    "    plt.figure(figsize=(15,5))\n",
    "\n",
    "    # summarize history for accuracy\n",
    "    plt.subplot(1,2,1)\n",
    "    plt.plot(history.history['mean_squared_error'])\n",
    "    plt.plot(history.history['val_mean_squared_error'])\n",
    "    plt.title('model accuracy')\n",
    "    plt.ylabel('accuracy')\n",
    "    plt.xlabel('epoch')\n",
    "    plt.legend(['train', 'test'], loc='upper left')\n",
    "\n",
    "    # summarize history for loss\n",
    "    plt.subplot(1,2,2)\n",
    "    plt.plot(history.history['loss'])\n",
    "    plt.plot(history.history['val_loss'])\n",
    "    plt.title('model loss')\n",
    "    plt.ylabel('loss')\n",
    "    plt.xlabel('epoch')\n",
    "    plt.legend(['train', 'test'], loc='upper left')\n",
    "    \n",
    "    plt.show()\n",
    "\n",
    "def network_summarize(net, X_test, y_test, title_text=''):\n",
    "    \"\"\"This function visualizes the confusion matrix\"\"\"\n",
    "    plt.figure(figsize=(15,10))\n",
    "    yhat = np.argmax(net.predict(X_test), axis=1)\n",
    "    acc = mt.accuracy_score(y_test,yhat)\n",
    "    cm = mt.confusion_matrix(y_test,yhat)\n",
    "    cm = cm/np.sum(cm,axis=1)[:,np.newaxis]\n",
    "    sns.heatmap(cm, annot=True, fmt='.2f')\n",
    "    plt.title(title_text+'{:.4f}'.format(acc))"
   ]
  },
  {
   "cell_type": "markdown",
   "metadata": {},
   "source": [
    "Alright let's build the CNN"
   ]
  },
  {
   "cell_type": "code",
   "execution_count": null,
   "metadata": {},
   "outputs": [],
   "source": [
    "num_filt_layers = [32,64,64]\n",
    "ds_shape = (ds.X_train.shape[1], 1)\n",
    "\n",
    "inputs = Input(shape=ds_shape, name='Input')\n",
    "x = inputs\n",
    "for num_filt in num_filt_layers:\n",
    "    x = Conv1D(filters=num_filt,\n",
    "               kernel_size=8,\n",
    "               padding='same', \n",
    "               input_shape=ds_shape)(x)\n",
    "    x = Activation('relu')(x)\n",
    "    x = MaxPooling1D(pool_size=4, padding='same')(x)\n",
    "x = Flatten()(x)\n",
    "x = Dense(50, activation='relu')(x)\n",
    "x = Dense(50, activation='relu')(x)\n",
    "predictions = Dense(1, activation='linear')(x) # one output layer to match the stockfish evaluation\n",
    "\n",
    "cnn = Model(inputs=inputs, outputs=predictions)\n",
    "\n",
    "cnn.compile(loss='mean_squared_error',\n",
    "              optimizer='adam',\n",
    "              metrics=['mse'])\n",
    "\n",
    "cnn.summary()"
   ]
  },
  {
   "cell_type": "markdown",
   "metadata": {},
   "source": [
    "Let's also create a couple variables for training. These parameters will be more or less the guidelines for our networks."
   ]
  },
  {
   "cell_type": "code",
   "execution_count": null,
   "metadata": {},
   "outputs": [],
   "source": [
    "epochs = 300\n",
    "batch_size = 10\n",
    "patience = epochs\n",
    "verbose = 1"
   ]
  },
  {
   "cell_type": "code",
   "execution_count": null,
   "metadata": {},
   "outputs": [],
   "source": [
    "%%time\n",
    "\n",
    "history = network_fit(cnn,  \n",
    "                      np.expand_dims(ds.X_train, axis=2), \n",
    "                      ds.y_train, \n",
    "                      np.expand_dims(ds.X_test, axis=2),\n",
    "                      ds.y_test, \n",
    "                      epochs=epochs, \n",
    "                      batch_size=batch_size, \n",
    "                      patience=patience, \n",
    "                      verbose=verbose\n",
    ")"
   ]
  },
  {
   "cell_type": "code",
   "execution_count": null,
   "metadata": {},
   "outputs": [],
   "source": [
    "network_plot(history)"
   ]
  },
  {
   "cell_type": "code",
   "execution_count": null,
   "metadata": {},
   "outputs": [],
   "source": [
    "predictions = network_predict(cnn, np.expand_dims(ds.X_test, axis=2), ds.y_test)\n",
    "comparison = np.concatenate((predictions, np.expand_dims(ds.y_test, axis=1)), axis=1)"
   ]
  },
  {
   "cell_type": "code",
   "execution_count": null,
   "metadata": {},
   "outputs": [],
   "source": [
    "np.set_printoptions(suppress=True)\n",
    "comparison"
   ]
  },
  {
   "cell_type": "code",
   "execution_count": null,
   "metadata": {},
   "outputs": [],
   "source": [
    "cnn.save(\"../cnn4.h5\")"
   ]
  },
  {
   "cell_type": "code",
   "execution_count": null,
   "metadata": {},
   "outputs": [],
   "source": [
    "0.0005"
   ]
  },
  {
   "cell_type": "code",
   "execution_count": null,
   "metadata": {},
   "outputs": [],
   "source": []
  }
 ],
 "metadata": {
  "kernelspec": {
   "display_name": "Python 3",
   "language": "python",
   "name": "python3"
  },
  "language_info": {
   "codemirror_mode": {
    "name": "ipython",
    "version": 3
   },
   "file_extension": ".py",
   "mimetype": "text/x-python",
   "name": "python",
   "nbconvert_exporter": "python",
   "pygments_lexer": "ipython3",
   "version": "3.6.5"
  }
 },
 "nbformat": 4,
 "nbformat_minor": 2
}
